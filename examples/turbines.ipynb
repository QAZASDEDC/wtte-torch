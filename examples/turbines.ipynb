{
 "cells": [
  {
   "cell_type": "markdown",
   "metadata": {},
   "source": [
    "# Example: Turbofan Engine Degradation Simulation Data Set\n",
    "\n",
    "This uses the dataset explored in Dayne Batten's implementation of WTTE-RNN in Keras.\n",
    "\n",
    "Reference:\n",
    "```\n",
    "A. Saxena and K. Goebel (2008). \n",
    "\"Turbofan Engine Degradation Simulation Data Set\", \n",
    "https://ti.arc.nasa.gov/c/13/, NASA Ames, Moffett Field, CA.\n",
    "```"
   ]
  },
  {
   "cell_type": "code",
   "execution_count": null,
   "metadata": {},
   "outputs": [],
   "source": [
    "from wtte.network import WtteRnnNetwork\n",
    "from wtte.loss import loss_continuous_weibull_loglik, loss_discrete_weibull_loglik\n",
    "from wtte.datasets import TurbofanDegradationDataset\n",
    "from wtte.train import train\n",
    "\n",
    "import torch\n",
    "import torch.nn as nn\n",
    "from torch.utils.data import DataLoader\n",
    "import numpy as np\n",
    "import pandas as pd\n",
    "import logging\n",
    "\n",
    "logging.basicConfig(level=logging.INFO, format='%(asctime)s %(message)s')"
   ]
  },
  {
   "cell_type": "code",
   "execution_count": null,
   "metadata": {},
   "outputs": [],
   "source": [
    "device = torch.device('cuda' if torch.cuda.is_available() else 'cpu')"
   ]
  },
  {
   "cell_type": "code",
   "execution_count": null,
   "metadata": {
    "tags": []
   },
   "outputs": [],
   "source": [
    "dataset_train = TurbofanDegradationDataset(directory='D:/Users/Aaron/Documents/AI and ML Projects/Data/CMAPSS',\n",
    "                                           train=True, min_seq_len=20, max_seq_len=100,\n",
    "                                           unit_ids=[1])\n",
    "\n",
    "logging.info(len(dataset_train))\n",
    "#dataset_train.df.head()"
   ]
  },
  {
   "cell_type": "code",
   "execution_count": null,
   "metadata": {
    "tags": []
   },
   "outputs": [],
   "source": [
    "dataset_test = TurbofanDegradationDataset(directory='D:/Users/Aaron/Documents/AI and ML Projects/Data/CMAPSS',\n",
    "                                           train=False, min_seq_len=100, max_seq_len=100,\n",
    "                                           unit_ids=[1])\n",
    "dataset_test.standardize(dataset_train)\n",
    "\n",
    "logging.info(len(dataset_test))\n",
    "#dataset_test.df.head()"
   ]
  },
  {
   "cell_type": "code",
   "execution_count": null,
   "metadata": {
    "tags": []
   },
   "outputs": [],
   "source": [
    "dl_train = DataLoader(dataset_train, batch_size=2048, shuffle=True, num_workers=12, pin_memory=True,\n",
    "                      collate_fn=dataset_train.collate_fn)"
   ]
  },
  {
   "cell_type": "code",
   "execution_count": null,
   "metadata": {},
   "outputs": [],
   "source": [
    "dl_test = DataLoader(dataset_test, batch_size=2048, shuffle=False, num_workers=12, pin_memory=True,\n",
    "                      collate_fn=dataset_train.collate_fn)"
   ]
  },
  {
   "cell_type": "code",
   "execution_count": null,
   "metadata": {},
   "outputs": [],
   "source": [
    "model = WtteRnnNetwork(input_size=len(dataset_train.features), \n",
    "                       rnn_layer=nn.GRU, \n",
    "                       rnn_layer_options={'hidden_size': 50, 'num_layers': 1, 'dropout': 0.25},\n",
    "                       init_alpha=1.0, max_beta_value=10.0) \\\n",
    "                           .to(device)"
   ]
  },
  {
   "cell_type": "code",
   "execution_count": null,
   "metadata": {
    "tags": []
   },
   "outputs": [],
   "source": [
    "train(model, dl_train, test_dataloader=dl_test, n_epochs=100, lr=0.01, clip_grad=1.0, \n",
    "      loss_type='discrete', device=device, pretrain=True)"
   ]
  },
  {
   "cell_type": "code",
   "execution_count": null,
   "metadata": {},
   "outputs": [],
   "source": [
    "# Save trained model\n",
    "torch.save(model.state_dict(), 'D:/Users/Aaron/Documents/AI and ML Projects/My Projects/Predictive Maintenance/wtte_rnn.pt')"
   ]
  }
 ],
 "metadata": {
  "kernelspec": {
   "display_name": "Python 3",
   "language": "python",
   "name": "python3"
  },
  "language_info": {
   "codemirror_mode": {
    "name": "ipython",
    "version": 3
   },
   "file_extension": ".py",
   "mimetype": "text/x-python",
   "name": "python",
   "nbconvert_exporter": "python",
   "pygments_lexer": "ipython3",
   "version": "3.7.7"
  }
 },
 "nbformat": 4,
 "nbformat_minor": 2
}
