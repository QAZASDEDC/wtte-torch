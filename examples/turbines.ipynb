{
 "cells": [
  {
   "cell_type": "markdown",
   "metadata": {},
   "source": [
    "# Example: Turbofan Engine Degradation Simulation Data Set\n",
    "\n",
    "This uses the dataset explored in Dayne Batten's implementation of WTTE-RNN in Keras.\n",
    "\n",
    "Reference:\n",
    "```\n",
    "A. Saxena and K. Goebel (2008). \n",
    "\"Turbofan Engine Degradation Simulation Data Set\", \n",
    "https://ti.arc.nasa.gov/c/13/, NASA Ames, Moffett Field, CA.\n",
    "```"
   ]
  },
  {
   "cell_type": "code",
   "execution_count": null,
   "metadata": {},
   "outputs": [],
   "source": [
    "from wtte.network import WtteRnnNetwork\n",
    "from wtte.loss import loss_continuous_weibull_loglik, loss_discrete_weibull_loglik\n",
    "from wtte.datasets import TurbofanDegradationDataset\n",
    "from wtte.train import train\n",
    "from wtte.predict import predict\n",
    "from wtte.visualize import plot_weibull_predictions, plot_predictions_over_time\n",
    "\n",
    "import torch\n",
    "import torch.nn as nn\n",
    "from torch.utils.data import DataLoader, Subset\n",
    "import numpy as np\n",
    "import pandas as pd\n",
    "import matplotlib.pyplot as plt\n",
    "import logging\n",
    "\n",
    "logging.basicConfig(level=logging.INFO, format='%(asctime)s %(message)s')"
   ]
  },
  {
   "cell_type": "code",
   "execution_count": null,
   "metadata": {},
   "outputs": [],
   "source": [
    "# Configuration\n",
    "device = torch.device('cuda' if torch.cuda.is_available() else 'cpu')\n",
    "torch.backends.cudnn.deterministic = True  # Fix for CUDA unspecified launch failure"
   ]
  },
  {
   "cell_type": "markdown",
   "metadata": {},
   "source": [
    "## Train model"
   ]
  },
  {
   "cell_type": "code",
   "execution_count": null,
   "metadata": {
    "tags": []
   },
   "outputs": [],
   "source": [
    "dataset_train = TurbofanDegradationDataset(directory='D:/Users/Aaron/Documents/AI and ML Projects/Data/CMAPSS',\n",
    "                                           train=True, min_seq_len=20, max_seq_len=100,\n",
    "                                           unit_ids=[1,2,3,4])\n",
    "\n",
    "logging.info(len(dataset_train))"
   ]
  },
  {
   "cell_type": "code",
   "execution_count": null,
   "metadata": {
    "tags": []
   },
   "outputs": [],
   "source": [
    "dataset_test = TurbofanDegradationDataset(directory='D:/Users/Aaron/Documents/AI and ML Projects/Data/CMAPSS',\n",
    "                                           train=False, min_seq_len=100, max_seq_len=100,\n",
    "                                           unit_ids=[1])\n",
    "dataset_test.standardize(dataset_train)\n",
    "\n",
    "logging.info(len(dataset_test))"
   ]
  },
  {
   "cell_type": "code",
   "execution_count": null,
   "metadata": {
    "tags": []
   },
   "outputs": [],
   "source": [
    "dl_train = DataLoader(dataset_train, batch_size=128, shuffle=True, num_workers=5, pin_memory=True,\n",
    "                      collate_fn=dataset_train.collate_fn)"
   ]
  },
  {
   "cell_type": "code",
   "execution_count": null,
   "metadata": {},
   "outputs": [],
   "source": [
    "dl_test = DataLoader(dataset_test, batch_size=128, shuffle=False, num_workers=5, pin_memory=True,\n",
    "                      collate_fn=dataset_train.collate_fn)"
   ]
  },
  {
   "cell_type": "code",
   "execution_count": null,
   "metadata": {},
   "outputs": [],
   "source": [
    "model = WtteRnnNetwork(input_size=len(dataset_train.features), \n",
    "                       rnn_layer=nn.LSTM, \n",
    "                       rnn_layer_options={'hidden_size': 25, 'num_layers': 2, 'dropout': 0.25}) \\\n",
    "                           .to(device)"
   ]
  },
  {
   "cell_type": "code",
   "execution_count": null,
   "metadata": {
    "tags": []
   },
   "outputs": [],
   "source": [
    "train_model = True\n",
    "model_filepath = 'D:/Users/Aaron/Documents/AI and ML Projects/My Projects/Predictive Maintenance/wtte_rnn_2.pt'\n",
    "\n",
    "if train_model:\n",
    "    train(model, dl_train, test_dataloader=dl_test, n_epochs=200, lr=0.01, clip_grad=1.0, \n",
    "          loss_type='discrete', device=device, n_epochs_pretrain=10)\n",
    "    # Save trained model\n",
    "    torch.save(model.state_dict(), model_filepath)\n",
    "else:\n",
    "    # Load trained model\n",
    "    model.load_state_dict(torch.load(model_filepath))"
   ]
  },
  {
   "cell_type": "markdown",
   "metadata": {},
   "source": [
    "## Predict model"
   ]
  },
  {
   "cell_type": "code",
   "execution_count": null,
   "metadata": {
    "tags": []
   },
   "outputs": [],
   "source": [
    "# Just one sequence\n",
    "test_seq_indices = [0]\n",
    "dl_test_2 = DataLoader(Subset(dataset_test, test_seq_indices), \n",
    "                       batch_size=min(len(test_seq_indices), 1024), \n",
    "                       shuffle=False, pin_memory=True,\n",
    "                       collate_fn=dataset_train.collate_fn)\n",
    "\n",
    "test_output = predict(model, dl_test_2, device=device, to_dataframe=True)"
   ]
  },
  {
   "cell_type": "code",
   "execution_count": null,
   "metadata": {},
   "outputs": [],
   "source": [
    "plt.rcParams[\"figure.figsize\"] = (8,6)\n",
    "plot_predictions_over_time(test_output)"
   ]
  },
  {
   "cell_type": "code",
   "execution_count": null,
   "metadata": {},
   "outputs": [],
   "source": [
    "plt.rcParams[\"figure.figsize\"] = (8,15)\n",
    "plot_weibull_predictions(test_output, sample_frac=0.10)"
   ]
  }
 ],
 "metadata": {
  "kernelspec": {
   "display_name": "Python 3",
   "language": "python",
   "name": "python3"
  },
  "language_info": {
   "codemirror_mode": {
    "name": "ipython",
    "version": 3
   },
   "file_extension": ".py",
   "mimetype": "text/x-python",
   "name": "python",
   "nbconvert_exporter": "python",
   "pygments_lexer": "ipython3",
   "version": "3.7.7"
  }
 },
 "nbformat": 4,
 "nbformat_minor": 2
}
