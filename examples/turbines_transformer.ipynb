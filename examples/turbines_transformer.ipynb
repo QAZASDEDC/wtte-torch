{
 "cells": [
  {
   "cell_type": "markdown",
   "metadata": {},
   "source": [
    "# Example: Turbofan Engine Degradation Simulation Data Set\n",
    "\n",
    "This uses the dataset explored in Dayne Batten's implementation of WTTE-RNN in Keras.\n",
    "\n",
    "Reference:\n",
    "```\n",
    "A. Saxena and K. Goebel (2008). \n",
    "\"Turbofan Engine Degradation Simulation Data Set\", \n",
    "https://ti.arc.nasa.gov/c/13/, NASA Ames, Moffett Field, CA.\n",
    "```"
   ]
  },
  {
   "cell_type": "code",
   "execution_count": null,
   "metadata": {},
   "outputs": [],
   "source": [
    "from wtte.transformer import WtteAttentionNetwork\n",
    "from wtte.loss import loss_continuous_weibull_loglik, loss_discrete_weibull_loglik\n",
    "from wtte.datasets import TurbofanDegradationDataset\n",
    "from wtte.train import train, Historian\n",
    "from wtte.predict import predict\n",
    "from wtte.visualize import plot_weibull_predictions, plot_predictions_over_time\n",
    "\n",
    "import torch\n",
    "import torch.nn as nn\n",
    "from torch.utils.data import DataLoader, Subset\n",
    "import numpy as np\n",
    "import pandas as pd\n",
    "import matplotlib.pyplot as plt\n",
    "import logging\n",
    "\n",
    "logging.basicConfig(level=logging.INFO, format='%(asctime)s %(message)s')"
   ]
  },
  {
   "cell_type": "code",
   "execution_count": null,
   "metadata": {},
   "outputs": [],
   "source": [
    "# Configuration\n",
    "device = torch.device('cuda' if torch.cuda.is_available() else 'cpu')\n",
    "torch.backends.cudnn.deterministic = True  # Fix for CUDA unspecified launch failure"
   ]
  },
  {
   "cell_type": "markdown",
   "metadata": {},
   "source": [
    "## Train model"
   ]
  },
  {
   "cell_type": "code",
   "execution_count": null,
   "metadata": {
    "tags": []
   },
   "outputs": [],
   "source": [
    "dataset_train = TurbofanDegradationDataset(directory='D:/Users/Aaron/Documents/AI and ML Projects/Data/CMAPSS',\n",
    "                                           train=True, min_seq_len=20, max_seq_len=100,\n",
    "                                           unit_ids=[1,2,3,4], device=torch.device('cpu'))\n",
    "\n",
    "logging.info(len(dataset_train))"
   ]
  },
  {
   "cell_type": "code",
   "execution_count": null,
   "metadata": {
    "tags": []
   },
   "outputs": [],
   "source": [
    "dataset_test = TurbofanDegradationDataset(directory='D:/Users/Aaron/Documents/AI and ML Projects/Data/CMAPSS',\n",
    "                                           train=False, min_seq_len=100, max_seq_len=100,\n",
    "                                           unit_ids=[1], device=torch.device('cpu'))\n",
    "dataset_test.standardize(dataset_train)\n",
    "\n",
    "logging.info(len(dataset_test))"
   ]
  },
  {
   "cell_type": "code",
   "execution_count": null,
   "metadata": {
    "tags": []
   },
   "outputs": [],
   "source": [
    "dl_train = DataLoader(dataset_train, batch_size=512, shuffle=True, num_workers=2, pin_memory=True,\n",
    "                      collate_fn=dataset_train.collate_fn)"
   ]
  },
  {
   "cell_type": "code",
   "execution_count": null,
   "metadata": {},
   "outputs": [],
   "source": [
    "dl_test = DataLoader(dataset_test, batch_size=512, shuffle=False, num_workers=2, pin_memory=True,\n",
    "                      collate_fn=dataset_train.collate_fn)"
   ]
  },
  {
   "cell_type": "code",
   "execution_count": null,
   "metadata": {},
   "outputs": [],
   "source": [
    "model = WtteAttentionNetwork(input_size=len(dataset_train.features), \n",
    "                             num_layers=2,\n",
    "                             encoder_layer_options={'nhead': 8, 'dim_feedforward': 32, 'dropout': 0.25}) \\\n",
    "                                 .to(device)\n",
    "\n",
    "optimizer = torch.optim.SGD(model.parameters(), lr=0.01, momentum=0.9)"
   ]
  },
  {
   "cell_type": "code",
   "execution_count": null,
   "metadata": {
    "tags": []
   },
   "outputs": [],
   "source": [
    "train_model = True\n",
    "model_filepath = 'D:/Users/Aaron/Documents/AI and ML Projects/My Projects/Predictive Maintenance/wtte_att.pt'\n",
    "\n",
    "if train_model:\n",
    "    historian = Historian()\n",
    "    train(model, dl_train, test_dataloader=dl_test, n_epochs=100, optimizer=optimizer, clip_grad=1.0, \n",
    "          loss_type='discrete', device=device, n_epochs_pretrain=10, historian=historian)\n",
    "    # Plot loss by epoch\n",
    "    tbl_historian = historian.to_table()\n",
    "    _ = plt.plot(tbl_historian.index, tbl_historian['train_loss'], label='Training loss')\n",
    "    _ = plt.plot(tbl_historian.index, tbl_historian['test_loss'], label='Test loss')\n",
    "    _ = plt.legend()\n",
    "    _ = plt.title('Objective loss by training epoch')\n",
    "    _ = plt.show()\n",
    "    # Save trained model\n",
    "    torch.save(model.state_dict(), model_filepath)\n",
    "else:\n",
    "    # Load trained model\n",
    "    model.load_state_dict(torch.load(model_filepath))"
   ]
  },
  {
   "cell_type": "markdown",
   "metadata": {},
   "source": [
    "## Predict model"
   ]
  },
  {
   "cell_type": "code",
   "execution_count": null,
   "metadata": {
    "tags": []
   },
   "outputs": [],
   "source": [
    "# Just one sequence\n",
    "test_seq_indices = [0]\n",
    "dl_test_2 = DataLoader(Subset(dataset_test, test_seq_indices), \n",
    "                       batch_size=min(len(test_seq_indices), 1024), \n",
    "                       shuffle=False, pin_memory=True,\n",
    "                       collate_fn=dataset_train.collate_fn)\n",
    "\n",
    "test_output = predict(model, dl_test_2, device=device, to_dataframe=True)"
   ]
  },
  {
   "cell_type": "code",
   "execution_count": null,
   "metadata": {},
   "outputs": [],
   "source": [
    "plt.rcParams[\"figure.figsize\"] = (8,6)\n",
    "plot_predictions_over_time(test_output)"
   ]
  },
  {
   "cell_type": "code",
   "execution_count": null,
   "metadata": {},
   "outputs": [],
   "source": [
    "plt.rcParams[\"figure.figsize\"] = (8,15)\n",
    "plot_weibull_predictions(test_output, sample_frac=0.10)"
   ]
  }
 ],
 "metadata": {
  "kernelspec": {
   "display_name": "Python 3",
   "language": "python",
   "name": "python3"
  },
  "language_info": {
   "codemirror_mode": {
    "name": "ipython",
    "version": 3
   },
   "file_extension": ".py",
   "mimetype": "text/x-python",
   "name": "python",
   "nbconvert_exporter": "python",
   "pygments_lexer": "ipython3",
   "version": "3.7.7-final"
  }
 },
 "nbformat": 4,
 "nbformat_minor": 2
}
